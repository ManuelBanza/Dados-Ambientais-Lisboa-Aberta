{
 "cells": [
  {
   "cell_type": "markdown",
   "metadata": {},
   "source": [
    "# Monitorização de Parâmetros Ambientais da Cidade de Lisboa\n",
    "\n",
    "### Obter dados do Lisboa Aberta extraídos \n",
    "\n",
    "Manuel Banza - March 2021"
   ]
  },
  {
   "cell_type": "code",
   "execution_count": 2,
   "metadata": {},
   "outputs": [],
   "source": [
    "import requests\n",
    "from pandas.io.json import json_normalize\n",
    "import pandas as pd"
   ]
  },
  {
   "cell_type": "code",
   "execution_count": 42,
   "metadata": {},
   "outputs": [
    {
     "data": {
      "text/html": [
       "<div>\n",
       "<style scoped>\n",
       "    .dataframe tbody tr th:only-of-type {\n",
       "        vertical-align: middle;\n",
       "    }\n",
       "\n",
       "    .dataframe tbody tr th {\n",
       "        vertical-align: top;\n",
       "    }\n",
       "\n",
       "    .dataframe thead th {\n",
       "        text-align: right;\n",
       "    }\n",
       "</style>\n",
       "<table border=\"1\" class=\"dataframe\">\n",
       "  <thead>\n",
       "    <tr style=\"text-align: right;\">\n",
       "      <th></th>\n",
       "      <th>id</th>\n",
       "      <th>date</th>\n",
       "      <th>dateStandard</th>\n",
       "      <th>value</th>\n",
       "      <th>unit</th>\n",
       "      <th>address</th>\n",
       "      <th>coordinates</th>\n",
       "      <th>date_modified</th>\n",
       "    </tr>\n",
       "  </thead>\n",
       "  <tbody>\n",
       "    <tr>\n",
       "      <th>0</th>\n",
       "      <td>QA00NO0001</td>\n",
       "      <td>202103312300000000</td>\n",
       "      <td>UTC</td>\n",
       "      <td>41.0</td>\n",
       "      <td>µg/m3</td>\n",
       "      <td>CALÇADA DA AJUDA</td>\n",
       "      <td>{'x': -92781, 'y': -106663, 'z': 0, 'lat': 38....</td>\n",
       "      <td>2021-03-31 23:00:00</td>\n",
       "    </tr>\n",
       "    <tr>\n",
       "      <th>1</th>\n",
       "      <td>QA0NO20001</td>\n",
       "      <td>202103312300000000</td>\n",
       "      <td>UTC</td>\n",
       "      <td>141.0</td>\n",
       "      <td>µg/m3</td>\n",
       "      <td>CALÇADA DA AJUDA</td>\n",
       "      <td>{'x': -92781, 'y': -106663, 'z': 0, 'lat': 38....</td>\n",
       "      <td>2021-03-31 23:00:00</td>\n",
       "    </tr>\n",
       "    <tr>\n",
       "      <th>2</th>\n",
       "      <td>QA00O30001</td>\n",
       "      <td>202103312300000000</td>\n",
       "      <td>UTC</td>\n",
       "      <td>129.0</td>\n",
       "      <td>µg/m3</td>\n",
       "      <td>CALÇADA DA AJUDA</td>\n",
       "      <td>{'x': -92781, 'y': -106663, 'z': 0, 'lat': 38....</td>\n",
       "      <td>2021-03-31 23:00:00</td>\n",
       "    </tr>\n",
       "    <tr>\n",
       "      <th>3</th>\n",
       "      <td>QAPM250001</td>\n",
       "      <td>202103310000000000</td>\n",
       "      <td>UTC</td>\n",
       "      <td>17.0</td>\n",
       "      <td>µg/m3</td>\n",
       "      <td>CALÇADA DA AJUDA</td>\n",
       "      <td>{'x': -92781, 'y': -106663, 'z': 0, 'lat': 38....</td>\n",
       "      <td>2021-03-31 00:00:00</td>\n",
       "    </tr>\n",
       "    <tr>\n",
       "      <th>4</th>\n",
       "      <td>QAPM100001</td>\n",
       "      <td>202103310000000000</td>\n",
       "      <td>UTC</td>\n",
       "      <td>44.0</td>\n",
       "      <td>µg/m3</td>\n",
       "      <td>CALÇADA DA AJUDA</td>\n",
       "      <td>{'x': -92781, 'y': -106663, 'z': 0, 'lat': 38....</td>\n",
       "      <td>2021-03-31 00:00:00</td>\n",
       "    </tr>\n",
       "  </tbody>\n",
       "</table>\n",
       "</div>"
      ],
      "text/plain": [
       "           id                date dateStandard  value   unit  \\\n",
       "0  QA00NO0001  202103312300000000          UTC   41.0  µg/m3   \n",
       "1  QA0NO20001  202103312300000000          UTC  141.0  µg/m3   \n",
       "2  QA00O30001  202103312300000000          UTC  129.0  µg/m3   \n",
       "3  QAPM250001  202103310000000000          UTC   17.0  µg/m3   \n",
       "4  QAPM100001  202103310000000000          UTC   44.0  µg/m3   \n",
       "\n",
       "            address                                        coordinates  \\\n",
       "0  CALÇADA DA AJUDA  {'x': -92781, 'y': -106663, 'z': 0, 'lat': 38....   \n",
       "1  CALÇADA DA AJUDA  {'x': -92781, 'y': -106663, 'z': 0, 'lat': 38....   \n",
       "2  CALÇADA DA AJUDA  {'x': -92781, 'y': -106663, 'z': 0, 'lat': 38....   \n",
       "3  CALÇADA DA AJUDA  {'x': -92781, 'y': -106663, 'z': 0, 'lat': 38....   \n",
       "4  CALÇADA DA AJUDA  {'x': -92781, 'y': -106663, 'z': 0, 'lat': 38....   \n",
       "\n",
       "        date_modified  \n",
       "0 2021-03-31 23:00:00  \n",
       "1 2021-03-31 23:00:00  \n",
       "2 2021-03-31 23:00:00  \n",
       "3 2021-03-31 00:00:00  \n",
       "4 2021-03-31 00:00:00  "
      ]
     },
     "execution_count": 42,
     "metadata": {},
     "output_type": "execute_result"
    }
   ],
   "source": [
    "# Ligar ao JSON\n",
    "\n",
    "url = 'http://opendata-cml.qart.pt:8080/lastmeasurements'\n",
    "df = pd.read_json(url, dtype = {\"date\": int})\n",
    "df['date'] = df['date'].astype(str)\n",
    "df['date_modified'] = df['date'].map(lambda x: x[:-6])\n",
    "df['date_modified'] = pd.to_datetime(df['date_modified'], format='%Y%m%d%H%M')\n",
    "df.head()"
   ]
  },
  {
   "cell_type": "code",
   "execution_count": 43,
   "metadata": {},
   "outputs": [],
   "source": [
    "df['acronimo_short'] = df['id'].map(lambda x: x[:4])"
   ]
  },
  {
   "cell_type": "code",
   "execution_count": 44,
   "metadata": {},
   "outputs": [
    {
     "data": {
      "text/plain": [
       "ME00    79\n",
       "QAPM    56\n",
       "QA00    50\n",
       "QA0N    28\n",
       "METE    26\n",
       "RULA    20\n",
       "QA0S     9\n",
       "Name: acronimo_short, dtype: int64"
      ]
     },
     "execution_count": 44,
     "metadata": {},
     "output_type": "execute_result"
    }
   ],
   "source": [
    "df.acronimo_short.value_counts()"
   ]
  },
  {
   "cell_type": "code",
   "execution_count": 45,
   "metadata": {},
   "outputs": [
    {
     "data": {
      "text/plain": [
       "µg/m3    143\n",
       "%         26\n",
       "Mbar      26\n",
       "ºC        26\n",
       "dB(A)     20\n",
       "º          9\n",
       "mm         9\n",
       "km/h       9\n",
       "Name: unit, dtype: int64"
      ]
     },
     "execution_count": 45,
     "metadata": {},
     "output_type": "execute_result"
    }
   ],
   "source": [
    "df.unit.value_counts()"
   ]
  },
  {
   "cell_type": "code",
   "execution_count": 46,
   "metadata": {},
   "outputs": [
    {
     "data": {
      "text/plain": [
       "2021-03-31 23:00:00    180\n",
       "2021-03-31 00:00:00     65\n",
       "2021-03-31 16:00:00     23\n",
       "Name: date_modified, dtype: int64"
      ]
     },
     "execution_count": 46,
     "metadata": {},
     "output_type": "execute_result"
    }
   ],
   "source": [
    "df.date_modified.value_counts()"
   ]
  },
  {
   "cell_type": "code",
   "execution_count": 47,
   "metadata": {},
   "outputs": [
    {
     "name": "stderr",
     "output_type": "stream",
     "text": [
      "<ipython-input-47-8dd75c4a617b>:1: FutureWarning: Treating datetime data as categorical rather than numeric in `.describe` is deprecated and will be removed in a future version of pandas. Specify `datetime_is_numeric=True` to silence this warning and adopt the future behavior now.\n",
      "  df['date_modified'].describe()\n"
     ]
    },
    {
     "data": {
      "text/plain": [
       "count                     268\n",
       "unique                      3\n",
       "top       2021-03-31 23:00:00\n",
       "freq                      180\n",
       "first     2021-03-31 00:00:00\n",
       "last      2021-03-31 23:00:00\n",
       "Name: date_modified, dtype: object"
      ]
     },
     "execution_count": 47,
     "metadata": {},
     "output_type": "execute_result"
    }
   ],
   "source": [
    "df['date_modified'].describe()"
   ]
  },
  {
   "cell_type": "code",
   "execution_count": null,
   "metadata": {},
   "outputs": [],
   "source": []
  },
  {
   "cell_type": "code",
   "execution_count": null,
   "metadata": {},
   "outputs": [],
   "source": [
    "# Criar nova coluna baseado em multiplas condições       \n",
    "def unit_topic(x):\n",
    "  if x['unit'] == 'µg/m3': return 'QUALIDADE DO AR'\n",
    "  elif x['unit'] == 'dB(A)': return 'RUÍDO'\n",
    "  elif x['unit'] == '%': return 'Humidade relativa'\n",
    "  else: return 'N/A'\n",
    "  \n",
    "df['unit_topic'] = df.apply(unit_marcacao, axis=1)"
   ]
  },
  {
   "cell_type": "code",
   "execution_count": null,
   "metadata": {},
   "outputs": [],
   "source": [
    "# Criar nova coluna baseado em multiplas condições       \n",
    "def unit_topic(x):\n",
    "  if x['unit'] == 'µg/m3': return 'QUALIDADE DO AR:'\n",
    "  elif x['unit'] == '%': return 'Humidade relativa'\n",
    "  elif x['unit'] == 'Mbar': return 'Pressão atmosférica'\n",
    "  elif x['unit'] == 'ºC': return 'Temperatura'\n",
    "  elif x['unit'] == 'dB(A)': return 'Nível sonoro contínuo equivalente (LAEQ)'\n",
    "  elif x['unit'] == 'º': return 'Vento direção '\n",
    "  elif x['unit'] == 'mm': return 'Precipitação'\n",
    "  elif x['unit'] == 'km/h': return 'Vento intensidade'\n",
    "  else: return 'N/A'\n",
    "  \n",
    "df['unit_topic'] = df.apply(unit_marcacao, axis=1)"
   ]
  },
  {
   "cell_type": "code",
   "execution_count": 41,
   "metadata": {},
   "outputs": [],
   "source": [
    "# Get today date now to file name when export to csv or excel with encoding utf8\n",
    "from datetime import datetime\n",
    "df.to_csv(datetime.now().strftime('../data_sources/output/parametros_ambientais-%Y-%m-%d-%H-%M-%S.csv'), encoding='utf8')"
   ]
  },
  {
   "cell_type": "code",
   "execution_count": null,
   "metadata": {},
   "outputs": [],
   "source": []
  }
 ],
 "metadata": {
  "kernelspec": {
   "display_name": "Python 3",
   "language": "python",
   "name": "python3"
  },
  "language_info": {
   "codemirror_mode": {
    "name": "ipython",
    "version": 3
   },
   "file_extension": ".py",
   "mimetype": "text/x-python",
   "name": "python",
   "nbconvert_exporter": "python",
   "pygments_lexer": "ipython3",
   "version": "3.8.5"
  }
 },
 "nbformat": 4,
 "nbformat_minor": 4
}
