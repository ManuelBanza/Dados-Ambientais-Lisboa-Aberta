{
 "cells": [
  {
   "cell_type": "markdown",
   "metadata": {},
   "source": [
    "# Monitorização de Parâmetros Ambientais da Cidade de Lisboa\n",
    "\n",
    "### Obter dados do Lisboa Aberta extraídos \n",
    "\n",
    "Manuel Banza - March 2021"
   ]
  },
  {
   "cell_type": "code",
   "execution_count": 2,
   "metadata": {},
   "outputs": [],
   "source": [
    "import requests\n",
    "from pandas.io.json import json_normalize\n",
    "import pandas as pd"
   ]
  },
  {
   "cell_type": "code",
   "execution_count": 16,
   "metadata": {},
   "outputs": [
    {
     "data": {
      "text/html": [
       "<div>\n",
       "<style scoped>\n",
       "    .dataframe tbody tr th:only-of-type {\n",
       "        vertical-align: middle;\n",
       "    }\n",
       "\n",
       "    .dataframe tbody tr th {\n",
       "        vertical-align: top;\n",
       "    }\n",
       "\n",
       "    .dataframe thead th {\n",
       "        text-align: right;\n",
       "    }\n",
       "</style>\n",
       "<table border=\"1\" class=\"dataframe\">\n",
       "  <thead>\n",
       "    <tr style=\"text-align: right;\">\n",
       "      <th></th>\n",
       "      <th>id</th>\n",
       "      <th>date</th>\n",
       "      <th>dateStandard</th>\n",
       "      <th>value</th>\n",
       "      <th>unit</th>\n",
       "      <th>address</th>\n",
       "      <th>coordinates</th>\n",
       "      <th>date_modified</th>\n",
       "    </tr>\n",
       "  </thead>\n",
       "  <tbody>\n",
       "    <tr>\n",
       "      <th>0</th>\n",
       "      <td>QA00NO0001</td>\n",
       "      <td>202103311800000000</td>\n",
       "      <td>UTC</td>\n",
       "      <td>31.0</td>\n",
       "      <td>µg/m3</td>\n",
       "      <td>CALÇADA DA AJUDA</td>\n",
       "      <td>{'x': 0, 'y': 0, 'z': 0, 'lat': 38.7022, 'lng'...</td>\n",
       "      <td>2021-03-31 18:00:00</td>\n",
       "    </tr>\n",
       "    <tr>\n",
       "      <th>1</th>\n",
       "      <td>QA0NO20001</td>\n",
       "      <td>202103311800000000</td>\n",
       "      <td>UTC</td>\n",
       "      <td>159.0</td>\n",
       "      <td>µg/m3</td>\n",
       "      <td>CALÇADA DA AJUDA</td>\n",
       "      <td>{'x': 0, 'y': 0, 'z': 0, 'lat': 38.7022, 'lng'...</td>\n",
       "      <td>2021-03-31 18:00:00</td>\n",
       "    </tr>\n",
       "    <tr>\n",
       "      <th>2</th>\n",
       "      <td>QA00O30001</td>\n",
       "      <td>202103311800000000</td>\n",
       "      <td>UTC</td>\n",
       "      <td>158.0</td>\n",
       "      <td>µg/m3</td>\n",
       "      <td>CALÇADA DA AJUDA</td>\n",
       "      <td>{'x': 0, 'y': 0, 'z': 0, 'lat': 38.7022, 'lng'...</td>\n",
       "      <td>2021-03-31 18:00:00</td>\n",
       "    </tr>\n",
       "    <tr>\n",
       "      <th>3</th>\n",
       "      <td>QAPM250001</td>\n",
       "      <td>202103310000000000</td>\n",
       "      <td>UTC</td>\n",
       "      <td>14.0</td>\n",
       "      <td>µg/m3</td>\n",
       "      <td>CALÇADA DA AJUDA</td>\n",
       "      <td>{'x': 0, 'y': 0, 'z': 0, 'lat': 38.7022, 'lng'...</td>\n",
       "      <td>2021-03-31 00:00:00</td>\n",
       "    </tr>\n",
       "    <tr>\n",
       "      <th>4</th>\n",
       "      <td>QAPM100001</td>\n",
       "      <td>202103310000000000</td>\n",
       "      <td>UTC</td>\n",
       "      <td>37.0</td>\n",
       "      <td>µg/m3</td>\n",
       "      <td>CALÇADA DA AJUDA</td>\n",
       "      <td>{'x': 0, 'y': 0, 'z': 0, 'lat': 38.7022, 'lng'...</td>\n",
       "      <td>2021-03-31 00:00:00</td>\n",
       "    </tr>\n",
       "  </tbody>\n",
       "</table>\n",
       "</div>"
      ],
      "text/plain": [
       "           id                date dateStandard  value   unit  \\\n",
       "0  QA00NO0001  202103311800000000          UTC   31.0  µg/m3   \n",
       "1  QA0NO20001  202103311800000000          UTC  159.0  µg/m3   \n",
       "2  QA00O30001  202103311800000000          UTC  158.0  µg/m3   \n",
       "3  QAPM250001  202103310000000000          UTC   14.0  µg/m3   \n",
       "4  QAPM100001  202103310000000000          UTC   37.0  µg/m3   \n",
       "\n",
       "            address                                        coordinates  \\\n",
       "0  CALÇADA DA AJUDA  {'x': 0, 'y': 0, 'z': 0, 'lat': 38.7022, 'lng'...   \n",
       "1  CALÇADA DA AJUDA  {'x': 0, 'y': 0, 'z': 0, 'lat': 38.7022, 'lng'...   \n",
       "2  CALÇADA DA AJUDA  {'x': 0, 'y': 0, 'z': 0, 'lat': 38.7022, 'lng'...   \n",
       "3  CALÇADA DA AJUDA  {'x': 0, 'y': 0, 'z': 0, 'lat': 38.7022, 'lng'...   \n",
       "4  CALÇADA DA AJUDA  {'x': 0, 'y': 0, 'z': 0, 'lat': 38.7022, 'lng'...   \n",
       "\n",
       "        date_modified  \n",
       "0 2021-03-31 18:00:00  \n",
       "1 2021-03-31 18:00:00  \n",
       "2 2021-03-31 18:00:00  \n",
       "3 2021-03-31 00:00:00  \n",
       "4 2021-03-31 00:00:00  "
      ]
     },
     "execution_count": 16,
     "metadata": {},
     "output_type": "execute_result"
    }
   ],
   "source": [
    "# Ligar ao JSON\n",
    "\n",
    "url = 'http://opendata-cml.qart.pt:8080/lastmeasurements'\n",
    "df = pd.read_json(url, dtype = {\"date\": int})\n",
    "df['date'] = df['date'].astype(str)\n",
    "df['date_modified'] = df['date'].map(lambda x: x[:-6])\n",
    "df['date_modified'] = pd.to_datetime(df['date_modified'], format='%Y%m%d%H%M')\n",
    "df.head()"
   ]
  },
  {
   "cell_type": "code",
   "execution_count": 17,
   "metadata": {},
   "outputs": [
    {
     "data": {
      "text/plain": [
       "ME00VD0003    1\n",
       "QA0NO20020    1\n",
       "QAPM250012    1\n",
       "ME00HR0020    1\n",
       "QA0NO20060    1\n",
       "             ..\n",
       "ME00PA0034    1\n",
       "RULAEQ0002    1\n",
       "RULAEQ0034    1\n",
       "METEMP0012    1\n",
       "ME00HR0007    1\n",
       "Name: id, Length: 268, dtype: int64"
      ]
     },
     "execution_count": 17,
     "metadata": {},
     "output_type": "execute_result"
    }
   ],
   "source": [
    "df.id.value_counts()"
   ]
  },
  {
   "cell_type": "code",
   "execution_count": null,
   "metadata": {},
   "outputs": [],
   "source": [
    "# Criar coluna condicional se contiver valor, contains:\n",
    "df.loc[df['id'].str.contains('loja', na=False), 'Acronimo'] = ''\n",
    "\n"
   ]
  },
  {
   "cell_type": "code",
   "execution_count": null,
   "metadata": {},
   "outputs": [],
   "source": [
    "df['Acronimo_Extenso'] = np.where(df.id.str[:2] == 'ME', 'Meteorologia / Estado do Tempo', \n",
    "            np.where(df.id.str[:2] == 'yy', 2, \n",
    "            np.where(df.id.str[:1] == 'z', 3, -1)))\n"
   ]
  }
 ],
 "metadata": {
  "kernelspec": {
   "display_name": "Python 3",
   "language": "python",
   "name": "python3"
  },
  "language_info": {
   "codemirror_mode": {
    "name": "ipython",
    "version": 3
   },
   "file_extension": ".py",
   "mimetype": "text/x-python",
   "name": "python",
   "nbconvert_exporter": "python",
   "pygments_lexer": "ipython3",
   "version": "3.8.5"
  }
 },
 "nbformat": 4,
 "nbformat_minor": 4
}
